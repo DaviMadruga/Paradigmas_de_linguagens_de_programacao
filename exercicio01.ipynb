{
  "nbformat": 4,
  "nbformat_minor": 0,
  "metadata": {
    "colab": {
      "provenance": [],
      "authorship_tag": "ABX9TyMLBG8Unph8ahuWtF9voJBc",
      "include_colab_link": true
    },
    "kernelspec": {
      "name": "python3",
      "display_name": "Python 3"
    },
    "language_info": {
      "name": "python"
    }
  },
  "cells": [
    {
      "cell_type": "markdown",
      "metadata": {
        "id": "view-in-github",
        "colab_type": "text"
      },
      "source": [
        "<a href=\"https://colab.research.google.com/github/DaviMadruga/Paradigmas_de_linguagens_de_programacao/blob/main/exercicio01.ipynb\" target=\"_parent\"><img src=\"https://colab.research.google.com/assets/colab-badge.svg\" alt=\"Open In Colab\"/></a>"
      ]
    },
    {
      "cell_type": "markdown",
      "source": [
        "Programa 01 - Objetivo: Fazer a leitura de duas notas e calcular a media\n"
      ],
      "metadata": {
        "id": "3k3Ukerc49E7"
      }
    },
    {
      "cell_type": "code",
      "source": [
        "nota1 = float(input('Informe a Nota 1: '))\n",
        "nota2 = float(input('Informe a Nota 2: '))\n",
        "\n",
        "media = (nota1+nota2)/2\n",
        "\n",
        "print('A media final: %.2f' %media)"
      ],
      "metadata": {
        "colab": {
          "base_uri": "https://localhost:8080/"
        },
        "id": "L82vXPxo5CEt",
        "outputId": "5a6256a5-133a-4748-eb1f-30b42a6db35d"
      },
      "execution_count": 25,
      "outputs": [
        {
          "output_type": "stream",
          "name": "stdout",
          "text": [
            "Informe a Nota 1: 10\n",
            "Informe a Nota 2: 8\n",
            "A media final: 9.00\n"
          ]
        }
      ]
    },
    {
      "cell_type": "markdown",
      "source": [
        "Programa 01 - Function"
      ],
      "metadata": {
        "id": "yDaB8ryH-Y2k"
      }
    },
    {
      "cell_type": "code",
      "source": [
        "nota1 = float(input('Informe a Nota 1: '))\n",
        "nota2 = float(input('Informe a NOta 2: '))\n",
        "\n",
        "def calculo_media(nota1,nota2):\n",
        "  media = (nota1+nota2)/2\n",
        "  print('A media final: %.2f' %media)\n",
        "\n",
        "calculo_media(nota1,nota2)"
      ],
      "metadata": {
        "colab": {
          "base_uri": "https://localhost:8080/"
        },
        "id": "hUi1R16X-ed2",
        "outputId": "5ddb914d-44b4-4574-cc13-f17b1a13dfea"
      },
      "execution_count": 26,
      "outputs": [
        {
          "output_type": "stream",
          "name": "stdout",
          "text": [
            "Informe a Nota 1: 8.5\n",
            "Informe a NOta 2: 6\n",
            "A media final: 7.25\n"
          ]
        }
      ]
    },
    {
      "cell_type": "markdown",
      "source": [
        "Programa 02 - Faça um programa que solicite o preço de uma mercadoria e o percentual do desconto. Exiba o valor do desconto e o preço a pagar."
      ],
      "metadata": {
        "id": "AWq_ABkH6qjg"
      }
    },
    {
      "cell_type": "code",
      "source": [
        "preco = float(input('Informe o preco: '))\n",
        "desconto = float(input('Informe o percentual do desconto: '))\n",
        "\n",
        "def calculo_desconto(preco,desconto):\n",
        "  valor_desconto = preco * desconto/100\n",
        "  valor_pagar = preco - valor_desconto\n",
        "\n",
        "  print('Valor do desconto: %.2f' %valor_desconto)\n",
        "  print('Valor a pagar: %.2f' %valor_pagar)\n",
        "\n",
        "calculo_desconto(preco,desconto)"
      ],
      "metadata": {
        "colab": {
          "base_uri": "https://localhost:8080/"
        },
        "id": "hPoMpMeP6udB",
        "outputId": "375778ee-876b-4526-e562-c6e8736b8776"
      },
      "execution_count": null,
      "outputs": [
        {
          "output_type": "stream",
          "name": "stdout",
          "text": [
            "Informe o preco: 100\n",
            "Informe o percentual do desconto: 25\n",
            "Valor do desconto: 25.00\n",
            "Valor a pagar: 75.00\n"
          ]
        }
      ]
    },
    {
      "cell_type": "markdown",
      "source": [
        "Programa 03 - Esreva um programa para calcular a redução do tempo de vida de um fumante. Pergunte a quantidade de cigarros fumados por dia e quantos anos ele já fumou. Considere que um fumante perde 10 minutos de vida a cada cigarro, e calcule quantos dias de vida um fumante perdera."
      ],
      "metadata": {
        "id": "F4L8G_DZAzsU"
      }
    },
    {
      "cell_type": "code",
      "source": [
        "cigarros_por_dia = float(input('Quantidade de cigaros por dia: '))\n",
        "anos_fumados = float(input('Quantidade de anos fumando: '))\n",
        "\n",
        "def calculo_dias(cigarros_por_dia,anos_fumados):\n",
        "  reducao_minutos = (anos_fumados * 365 * cigarros_por_dia *10)\n",
        "  reducao_dias = reducao_minutos / (24 * 60)\n",
        "  print('Reducao do tempo de vida %.2f' %reducao_dias)\n",
        "\n",
        "calculo_dias(cigarros_por_dia,anos_fumados)"
      ],
      "metadata": {
        "colab": {
          "base_uri": "https://localhost:8080/"
        },
        "id": "8BQowYmdA4ot",
        "outputId": "ebfa5098-368b-4854-9c41-5d75be739258"
      },
      "execution_count": 27,
      "outputs": [
        {
          "output_type": "stream",
          "name": "stdout",
          "text": [
            "Quantidade de cigaros por dia: 20\n",
            "Quantidade de anos fumando: 15\n",
            "Reducao do tempo de vida 760.42\n"
          ]
        }
      ]
    },
    {
      "cell_type": "markdown",
      "source": [
        "Programa 04 - Escreva um programa que pergunte o salário do funcionário e calcule o valor do aumento. Para salários superiores a R$ 1.250,00, calcule um aumento de 10%. Para os inferiores ou iguais, de 15%."
      ],
      "metadata": {
        "id": "m_-DN5rOO7cz"
      }
    },
    {
      "cell_type": "code",
      "source": [
        "salario = float(input('Informe o salario: '))\n",
        "\n",
        "def calculo_salario(salario):\n",
        "  if salario > 1250:\n",
        "    salario = salario * 1.1\n",
        "  else:\n",
        "    salario = salario * 1.15\n",
        "  print('Salario com aumento R$%f'%salario)\n",
        "\n",
        "calculo_salario(salario)"
      ],
      "metadata": {
        "colab": {
          "base_uri": "https://localhost:8080/"
        },
        "id": "-qyaPnuAPACA",
        "outputId": "abb00122-fe00-4901-e177-0fd62d5880de"
      },
      "execution_count": null,
      "outputs": [
        {
          "output_type": "stream",
          "name": "stdout",
          "text": [
            "Informe o salario: 2000\n",
            "Salario com aumento R$2200.000000\n"
          ]
        }
      ]
    },
    {
      "cell_type": "markdown",
      "source": [
        "Programa 05 - Escreva um programa que pergunte o custo de consumo e o tipo de instalação(R,I,C). Calcule o total a pagar"
      ],
      "metadata": {
        "id": "oSrYuMpDRzUK"
      }
    },
    {
      "cell_type": "code",
      "source": [
        "consumo = int(input('Consumo em KWh: '))\n",
        "tipo = input('Tipo de instalação (R, C, I): ')\n",
        "\n",
        "if tipo == 'R':\n",
        "    if consumo <= 500:\n",
        "        preço = 0.40\n",
        "    else:\n",
        "        preço = 0.65\n",
        "elif tipo == 'I':\n",
        "    if consumo <= 5000:\n",
        "        preço = 0.55\n",
        "    else:\n",
        "        preço = 0.60\n",
        "elif tipo == 'C':\n",
        "    if consumo <= 1000:\n",
        "        preço = 0.55\n",
        "    else:\n",
        "        preço = 0.60\n",
        "else:\n",
        "    preço = 0\n",
        "    print('ERRO')\n",
        "\n",
        "custo = consumo * preco\n",
        "\n",
        "print('Valor total a pagar R$%.2f' %custo)"
      ],
      "metadata": {
        "colab": {
          "base_uri": "https://localhost:8080/"
        },
        "id": "E9TfMdI_SmCk",
        "outputId": "637aa94f-9461-4dfb-c464-0f3fe6757724"
      },
      "execution_count": null,
      "outputs": [
        {
          "output_type": "stream",
          "name": "stdout",
          "text": [
            "Consumo em KWh: 200\n",
            "Tipo de instalação (R, C, I): R\n",
            "Valor total a pagar R$20000.00\n"
          ]
        }
      ]
    },
    {
      "cell_type": "markdown",
      "source": [
        "Programa 06 - Escreva um programa que compare duas listas. Utilizando operações com conjuntos, imprima:\n",
        "• os valores comuns às duas listas\n",
        "• os valores que só existem na primeira\n",
        "• os valores que existem apenas na segunda\n",
        "• uma lista com os elementos não repetidos das duas listas.\n",
        "• a primeira lista sem os elementos repetidos na segunda"
      ],
      "metadata": {
        "id": "6mVBywTdUkTL"
      }
    },
    {
      "cell_type": "code",
      "source": [
        "lista1 = [1, 2, 6, 8]\n",
        "lista2 = [3, 6, 8, 9]\n",
        "\n",
        "print(f'Lista 1: {lista1}')\n",
        "print(f'Lista 2: {lista2}')\n",
        "\n",
        "conjunto1 = set(lista1)\n",
        "conjunto2 = set(lista2)\n",
        "\n",
        "print('Valores comuns as duas listas:',conjunto1 & conjunto2)\n",
        "print('Valores que so existem na primeira:',conjunto1 - conjunto2)\n",
        "print('Valores que so existem na segunda:',conjunto2 - conjunto1)\n",
        "\n",
        "print('Elementos não repetidos nas duas listras:',conjunto1 ^ conjunto2)\n",
        "\n",
        "print('Lista 1, sem os elementos repetidos: ',conjunto1 - conjunto2)"
      ],
      "metadata": {
        "colab": {
          "base_uri": "https://localhost:8080/"
        },
        "id": "LsGNQXb_UoVQ",
        "outputId": "c28fefd8-984b-47a3-ad44-13377c4ace38"
      },
      "execution_count": 18,
      "outputs": [
        {
          "output_type": "stream",
          "name": "stdout",
          "text": [
            "Lista 1: [1, 2, 6, 8]\n",
            "Lista 2: [3, 6, 8, 9]\n",
            "Valores comuns as duas listas: {8, 6}\n",
            "Valores que so existem na primeira: {1, 2}\n",
            "Valores que so existem na segunda: {9, 3}\n",
            "Elementos não repetidos nas duas listras: {1, 2, 3, 9}\n",
            "Lista 1, sem os elementos repetidos:  {1, 2}\n"
          ]
        }
      ]
    },
    {
      "cell_type": "markdown",
      "source": [
        "Programa 07 - Altere o programa anterior de forma a perguntar também o valor\n",
        "\n",
        "depositado mensalmente. Esse valor será depositado no início de cada mês, e você deve considerá-lo para o cálculo de juros do mês seguinte.\n"
      ],
      "metadata": {
        "id": "kuoN6By2YWSv"
      }
    },
    {
      "cell_type": "code",
      "source": [
        "deposito_inicial = float(input('Deposito inicial: '))\n",
        "taxa = float(input('Taxa de juros:'))\n",
        "deposito_mensal = float(input('Deposito Mensal:'))\n",
        "mes = 1\n",
        "saldo = deposito_inicial\n",
        "\n",
        "while mes <= 24:\n",
        "  saldo = saldo + (saldo * (taxa/100)) + deposito_mensal\n",
        "  print(f'Saldo do mes {mes} eh de R${saldo:5.2f}')\n",
        "  mes = mes + 1\n",
        "\n",
        "ganho_obtido = (saldo - deposito_inicial)\n",
        "\n",
        "print('O ganho obtido com os juros R$%.2f' %ganho_obtido)"
      ],
      "metadata": {
        "colab": {
          "base_uri": "https://localhost:8080/"
        },
        "id": "p_dUGRZiYhln",
        "outputId": "62becf35-d029-4c83-82e6-55d72380025e"
      },
      "execution_count": 21,
      "outputs": [
        {
          "output_type": "stream",
          "name": "stdout",
          "text": [
            "Deposito inicial: 1500\n",
            "Taxa de juros:5\n",
            "Deposito Mensal:100\n",
            "Saldo do mes 1 eh de R$1675.00\n",
            "Saldo do mes 2 eh de R$1858.75\n",
            "Saldo do mes 3 eh de R$2051.69\n",
            "Saldo do mes 4 eh de R$2254.27\n",
            "Saldo do mes 5 eh de R$2466.99\n",
            "Saldo do mes 6 eh de R$2690.33\n",
            "Saldo do mes 7 eh de R$2924.85\n",
            "Saldo do mes 8 eh de R$3171.09\n",
            "Saldo do mes 9 eh de R$3429.65\n",
            "Saldo do mes 10 eh de R$3701.13\n",
            "Saldo do mes 11 eh de R$3986.19\n",
            "Saldo do mes 12 eh de R$4285.50\n",
            "Saldo do mes 13 eh de R$4599.77\n",
            "Saldo do mes 14 eh de R$4929.76\n",
            "Saldo do mes 15 eh de R$5276.25\n",
            "Saldo do mes 16 eh de R$5640.06\n",
            "Saldo do mes 17 eh de R$6022.06\n",
            "Saldo do mes 18 eh de R$6423.17\n",
            "Saldo do mes 19 eh de R$6844.33\n",
            "Saldo do mes 20 eh de R$7286.54\n",
            "Saldo do mes 21 eh de R$7750.87\n",
            "Saldo do mes 22 eh de R$8238.41\n",
            "Saldo do mes 23 eh de R$8750.33\n",
            "Saldo do mes 24 eh de R$9287.85\n",
            "O ganho obtido com os juros R$7787.85\n"
          ]
        }
      ]
    },
    {
      "cell_type": "markdown",
      "source": [
        "Programa 08 - Escreva um programa para controlar uma pequena máquina registradora. Você deve solicitar ao usuário que digite o código do produto e a quantidade comprada. Utilize a tabela de códigos a seguir para obter o preço de cada produto:\n",
        "\n",
        "Código Preço 1 0,50 2 1,00 3 4,00 5 7,00 9 8,00 Seu programa deve exibir o total das compras depois que o usuário digitar 0. Qualquer outro código deve gerar a mensagem de erro “Código inválido”."
      ],
      "metadata": {
        "id": "dIp4TkyIeFRJ"
      }
    },
    {
      "cell_type": "code",
      "source": [
        "total = 0\n",
        "\n",
        "while True:\n",
        "  codigo = int(input('Codigo da mercadoria: '))\n",
        "  preco = 0\n",
        "\n",
        "  if codigo == 0:\n",
        "    break\n",
        "  elif codigo == 1:\n",
        "    preco = 0.50\n",
        "  elif codigo == 2:\n",
        "    preco = 1.00\n",
        "  elif codigo == 3:\n",
        "    preco = 4.00\n",
        "  elif codigo == 5:\n",
        "    preco = 7.00\n",
        "  elif codigo == 9:\n",
        "    preco = 8.00\n",
        "  else:\n",
        "    print('ERRO')\n",
        "\n",
        "  if preco != 0:\n",
        "    quantidade = int(input('Quantidade: '))\n",
        "    total = total + (preco * quantidade)\n",
        "\n",
        "print('Total a pagar R$%.2f' %total)"
      ],
      "metadata": {
        "colab": {
          "base_uri": "https://localhost:8080/"
        },
        "id": "5ikhGLyIeLmN",
        "outputId": "195c58c4-3dd4-4630-a2aa-beb5acc8e1be"
      },
      "execution_count": 23,
      "outputs": [
        {
          "output_type": "stream",
          "name": "stdout",
          "text": [
            "Codigo da mercadoria: 1\n",
            "Quantidade: 5\n",
            "Codigo da mercadoria: 3\n",
            "Quantidade: 1\n",
            "Codigo da mercadoria: 9\n",
            "Quantidade: 2\n",
            "Codigo da mercadoria: 2\n",
            "Quantidade: 4\n",
            "Codigo da mercadoria: 0\n",
            "Total a pagar R$26\n"
          ]
        }
      ]
    }
  ]
}